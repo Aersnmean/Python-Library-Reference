{
 "cells": [
  {
   "cell_type": "code",
   "execution_count": 25,
   "metadata": {},
   "outputs": [
    {
     "name": "stdout",
     "output_type": "stream",
     "text": [
      "float64\n",
      "[[[0. 0.]\n",
      "  [0. 0.]\n",
      "  [0. 0.]]]\n",
      "[[[1. 1.]\n",
      "  [1. 1.]\n",
      "  [1. 1.]]]\n",
      "[[[1. 1.]\n",
      "  [1. 1.]\n",
      "  [1. 1.]]]\n",
      "[[[ 0  1]\n",
      "  [ 2  3]]\n",
      "\n",
      " [[ 4  5]\n",
      "  [ 6  7]]\n",
      "\n",
      " [[ 8  9]\n",
      "  [10 11]]]\n",
      "[[ 1.   4.8]\n",
      " [ 8.6 12.4]\n",
      " [16.2 20. ]]\n"
     ]
    }
   ],
   "source": [
    "import numpy as np\n",
    "\n",
    "a = np.array([2,3,4], dtype=np.float)\n",
    "print(a.dtype)\n",
    "print(np.zeros((1,3,2)))\n",
    "print(np.ones((1,3,2)))\n",
    "# 使用未初始化内存，值不定\n",
    "print(np.empty((1,3,2)))\n",
    "# arange生成数列， reshape重新排列（维数相乘等于元素数量）\n",
    "print(np.arange(12).reshape((3,2,2)))\n",
    "# linspace生成数列\n",
    "# linspace(起，止，数量)\n",
    "print(np.linspace(1,20,6).reshape((3,2)))"
   ]
  },
  {
   "cell_type": "code",
   "execution_count": 44,
   "metadata": {},
   "outputs": [
    {
     "name": "stdout",
     "output_type": "stream",
     "text": [
      "[10 20 30 40] [1 2 3 4]\n",
      "[11 22 33 44]\n",
      "[ 9 18 27 36]\n",
      "[ 10  40  90 160]\n",
      "[10. 10. 10. 10.]\n",
      "[     10     400   27000 2560000]\n",
      "[False False False  True]\n",
      "[4 5 6 7]\n",
      "300 300\n",
      "c: [[0.36427057 0.59625162 0.50673333 0.52661585]\n",
      " [0.96491174 0.54494306 0.74145797 0.14750445]]\n",
      "求和： 4.392688596401845\n",
      "行求和 [1.99387137 2.39881723]\n",
      "列求和 [1.32918231 1.14119469 1.2481913  0.6741203 ]\n",
      "求最小值： 0.1475044502121282\n",
      "求最大值： 0.9649117426511192\n"
     ]
    }
   ],
   "source": [
    "# numpy基础运算\n",
    "a = np.array([10,20,30,40])\n",
    "b = np.array([1,2,3,4])\n",
    "print(a,b)\n",
    "print(a+b)\n",
    "print(a-b)\n",
    "print(a*b)\n",
    "print(a/b)\n",
    "print(a**b)\n",
    "print(b>3)\n",
    "print(b+3)\n",
    "# 矩阵的积\n",
    "print(np.dot(a,b),a.dot(b))\n",
    "# 生成随机矩阵\n",
    "c = np.random.random((2,4))\n",
    "print('c:',c)\n",
    "# axis=0 列   axis=1 行\n",
    "print('求和：',np.sum(c))\n",
    "print('行求和', np.sum(c, axis=1))\n",
    "print('列求和', np.sum(c, axis=0))\n",
    "print('求最小值：',np.min(c))\n",
    "print('求最大值：',np.max(c))"
   ]
  },
  {
   "cell_type": "code",
   "execution_count": null,
   "metadata": {},
   "outputs": [],
   "source": []
  },
  {
   "cell_type": "code",
   "execution_count": null,
   "metadata": {},
   "outputs": [],
   "source": []
  }
 ],
 "metadata": {
  "kernelspec": {
   "display_name": "Python 3",
   "language": "python",
   "name": "python3"
  },
  "language_info": {
   "codemirror_mode": {
    "name": "ipython",
    "version": 3
   },
   "file_extension": ".py",
   "mimetype": "text/x-python",
   "name": "python",
   "nbconvert_exporter": "python",
   "pygments_lexer": "ipython3",
   "version": "3.6.4"
  }
 },
 "nbformat": 4,
 "nbformat_minor": 2
}
