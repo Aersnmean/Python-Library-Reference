{
 "cells": [
  {
   "cell_type": "code",
   "execution_count": 4,
   "metadata": {},
   "outputs": [
    {
     "name": "stdout",
     "output_type": "stream",
     "text": [
      "c\n"
     ]
    }
   ],
   "source": [
    "a = 'a'\n",
    "print(a>'b' or 'c')"
   ]
  },
  {
   "cell_type": "code",
   "execution_count": 31,
   "metadata": {},
   "outputs": [
    {
     "name": "stdout",
     "output_type": "stream",
     "text": [
      "[3, 4, 5, 1, 2, 3]\n"
     ]
    }
   ],
   "source": [
    "x = [3,4,5]\n",
    "x[len(x):]=[1,2,3]\n",
    "print(x)"
   ]
  },
  {
   "cell_type": "code",
   "execution_count": 23,
   "metadata": {},
   "outputs": [
    {
     "name": "stdout",
     "output_type": "stream",
     "text": [
      "[3, 2, 1]\n",
      "[3, 2, 1]\n"
     ]
    }
   ],
   "source": [
    "print(sorted([1, 2, 3], reverse=True))\n",
    "print(list(reversed([1, 2, 3])))"
   ]
  },
  {
   "cell_type": "code",
   "execution_count": 25,
   "metadata": {},
   "outputs": [
    {
     "name": "stdout",
     "output_type": "stream",
     "text": [
      "TEL:一五四八二五六五\n"
     ]
    }
   ],
   "source": [
    "# maketrans():创建字符映射转换表\n",
    "# translate(str):根据str给出的映射转换表转换string字符\n",
    "table = ''.maketrans('0123456789','零一二三四五六七八九')\n",
    "print('TEL:15482565'.translate(table))"
   ]
  },
  {
   "cell_type": "code",
   "execution_count": 38,
   "metadata": {},
   "outputs": [
    {
     "name": "stdout",
     "output_type": "stream",
     "text": [
      "居左++++++++++++++++++\n",
      "++++++++++++++++++居右\n",
      "+++++++++居中+++++++++\n"
     ]
    }
   ],
   "source": [
    "print('居左'.ljust(20, '+'))\n",
    "print('居右'.rjust(20, '+'))\n",
    "print('居中'.center(20, '+'))"
   ]
  },
  {
   "cell_type": "code",
   "execution_count": 45,
   "metadata": {},
   "outputs": [
    {
     "name": "stdout",
     "output_type": "stream",
     "text": [
      "alex,Alex\n",
      "40\n",
      "<class 'dict'>\n"
     ]
    }
   ],
   "source": [
    "a = 'alex'\n",
    "b = a.capitalize()\n",
    "print(a, end=',')\n",
    "print(b)\n",
    "\n",
    "s = 'The python language is a cross platform language.'\n",
    "print(s.find('language', 30))"
   ]
  },
  {
   "cell_type": "code",
   "execution_count": 59,
   "metadata": {},
   "outputs": [
    {
     "name": "stdout",
     "output_type": "stream",
     "text": [
      "1000\n",
      "500.0\n",
      "250.0\n",
      "125.0\n",
      "62.5\n",
      "31.25\n",
      "15.625\n",
      "7.8125\n",
      "3.90625\n",
      "1.953125\n",
      "------------\n",
      "1\n"
     ]
    }
   ],
   "source": [
    "k = 1000\n",
    "while k>1:\n",
    "    print(k)\n",
    "    k /= 2\n",
    "\n",
    "print('------------')    \n",
    "x = 1\n",
    "y = 2\n",
    "min = x  if  x < y  else  y  \n",
    "print(min)"
   ]
  },
  {
   "cell_type": "code",
   "execution_count": 7,
   "metadata": {},
   "outputs": [
    {
     "name": "stdout",
     "output_type": "stream",
     "text": [
      "2*3*2*5\n"
     ]
    }
   ],
   "source": [
    "list = [2,3,2,5]\n",
    "for i in list[:-1]:\n",
    "    print(i, end='*')\n",
    "print(list[-1])"
   ]
  },
  {
   "cell_type": "code",
   "execution_count": 13,
   "metadata": {},
   "outputs": [
    {
     "name": "stdout",
     "output_type": "stream",
     "text": [
      "{'a': 24, 'j': 52, 'i': 12, 'k': 33} dict_items([('a', 24), ('j', 52), ('i', 12), ('k', 33)])\n"
     ]
    },
    {
     "data": {
      "text/plain": [
       "[('i', 12), ('a', 24), ('k', 33), ('j', 52)]"
      ]
     },
     "execution_count": 13,
     "metadata": {},
     "output_type": "execute_result"
    }
   ],
   "source": [
    "dict = {'a': 24, 'j': 52, 'i': 12, 'k': 33}\n",
    "print(dict, dict.items())\n",
    "sorted(dict.items(), key = lambda x:x[1])"
   ]
  },
  {
   "cell_type": "code",
   "execution_count": null,
   "metadata": {},
   "outputs": [],
   "source": []
  }
 ],
 "metadata": {
  "kernelspec": {
   "display_name": "Python 3",
   "language": "python",
   "name": "python3"
  },
  "language_info": {
   "codemirror_mode": {
    "name": "ipython",
    "version": 3
   },
   "file_extension": ".py",
   "mimetype": "text/x-python",
   "name": "python",
   "nbconvert_exporter": "python",
   "pygments_lexer": "ipython3",
   "version": "3.6.4"
  }
 },
 "nbformat": 4,
 "nbformat_minor": 2
}
