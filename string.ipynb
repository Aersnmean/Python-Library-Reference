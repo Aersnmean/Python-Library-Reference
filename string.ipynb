{
 "cells": [
  {
   "cell_type": "code",
   "execution_count": 15,
   "metadata": {},
   "outputs": [
    {
     "name": "stdout",
     "output_type": "stream",
     "text": [
      "abcdefghijklmnopqrstuvwxyzABCDEFGHIJKLMNOPQRSTUVWXYZ\n",
      "abcdefghijklmnopqrstuvwxyz\n",
      "ABCDEFGHIJKLMNOPQRSTUVWXYZ\n",
      "0123456789\n",
      "0123456789abcdefABCDEF\n",
      "01234567\n",
      "!\"#$%&'()*+,-./:;<=>?@[\\]^_`{|}~\n",
      "0123456789abcdefghijklmnopqrstuvwxyzABCDEFGHIJKLMNOPQRSTUVWXYZ!\"#$%&'()*+,-./:;<=>?@[\\]^_`{|}~ \t\n",
      "\r",
      "\u000b",
      "\f",
      "\n",
      " \t\n",
      "\r",
      "\u000b",
      "\f",
      "\n"
     ]
    }
   ],
   "source": [
    "import string\n",
    "print(string.ascii_letters)\n",
    "print(string.ascii_lowercase)\n",
    "print(string.ascii_uppercase)\n",
    "print(string.digits)\n",
    "print(string.hexdigits)\n",
    "print(string.octdigits)\n",
    "print(string.punctuation)\n",
    "print(string.printable)\n",
    "print(string.whitespace)"
   ]
  },
  {
   "cell_type": "code",
   "execution_count": 38,
   "metadata": {},
   "outputs": [
    {
     "name": "stdout",
     "output_type": "stream",
     "text": [
      "str: Hello World{}\n",
      "str1: Hello World!!!\n",
      "str2: my name is tom, i am 20\n",
      "str3: \n",
      "    Hi tom,\n",
      "    You are 20,\n",
      "    You are a male.\n",
      "\n",
      "str4: The man is tom, aged 20\n"
     ]
    }
   ],
   "source": [
    "str0 = 'Hello World{}'\n",
    "print('str:', str0)\n",
    "str1 = str.format('!!!')\n",
    "print('str1:', str1)\n",
    "\n",
    "name = 'tom'\n",
    "age = 20\n",
    "sex = 'male'\n",
    "str2 = f'my name is {name}, i am {age}'\n",
    "print('str2:', str2)\n",
    "str3 = f'''\n",
    "    Hi {name},\n",
    "    You are {age},\n",
    "    You are a {sex}.\n",
    "'''\n",
    "print('str3:', str3)\n",
    "dic = {'name': name, 'age': age, 'sex': sex}\n",
    "str4 = f'The man is {dic[\"name\"]}, aged {dic[\"age\"]}'\n",
    "print('str4:', str4)\n"
   ]
  },
  {
   "cell_type": "code",
   "execution_count": 67,
   "metadata": {},
   "outputs": [
    {
     "name": "stdout",
     "output_type": "stream",
     "text": [
      "0 ('my name is ', 'person[0].name', '', None)\n",
      "[<__main__.Person object at 0x000002EEC1E17048>]\n"
     ]
    }
   ],
   "source": [
    "import string\n",
    "class Person(object):\n",
    "    name = 'default name'\n",
    "    def __init__(self, name=''):\n",
    "        self.name = name\n",
    "me = Person('Wang')\n",
    "data = [me]\n",
    "str = \"my name is {person[0].name}\"\n",
    "formatter = string.Formatter()\n",
    "formatter.format(str, person = data)\n",
    "formatter.vformat(str, (), {'person': data})\n",
    "# 2个方法的结果是完全一样的，只是一个包装了另一个，再Formatter.vformat方法中必须有4个参数，中间的空元组和最后的空字典必须存在，因为Formatter.vformat的参数不是 (*args, **kwargs) 而是 (args, kwargs), 这是完全不一样的，没看清楚会悲剧的。\n",
    "for i, v in enumerate(formatter.parse(str), start=0):\n",
    "    temp = v\n",
    "    print(i, v)\n",
    "formatter.get_field(temp[1], (), {'person' : data})\n",
    "ret = formatter.get_value(formatter.get_field(temp[1], (), {'person':data})[1], (), {'person':data})"
   ]
  },
  {
   "cell_type": "code",
   "execution_count": null,
   "metadata": {},
   "outputs": [],
   "source": [
    "'''\n",
    "替换字段的语法如下：\n",
    "replacement_field ::=  \"{\" [field_name] [\"!\" conversion] [\":\" format_spec] \"}\"\n",
    "field_name        ::=  arg_name (\".\" attribute_name | \"[\" element_index \"]\")*\n",
    "arg_name          ::=  [identifier | digit+]\n",
    "attribute_name    ::=  identifier\n",
    "element_index     ::=  digit+ | index_string\n",
    "index_string      ::=  <any source character except \"]\"> +\n",
    "conversion        ::=  \"r\" | \"s\" | \"a\"\n",
    "format_spec       ::=  <described in the next section>\n",
    "'''"
   ]
  },
  {
   "cell_type": "code",
   "execution_count": 5,
   "metadata": {},
   "outputs": [
    {
     "name": "stdout",
     "output_type": "stream",
     "text": [
      "Point(2,4)\n"
     ]
    }
   ],
   "source": [
    "c = 3-5j\n",
    "('The complex number {0} is formed from the real part {0.real} \\\n",
    "and the imaginary part {0.imag}.').format(c)\n",
    "class Point:\n",
    "    def __init__(self, x, y):\n",
    "        self.x, self.y = x, y\n",
    "    def __str__(self):\n",
    "        return 'Point({self.x},{self.y})'.format(self=self)\n",
    "print(Point(2, 4))"
   ]
  },
  {
   "cell_type": "code",
   "execution_count": 16,
   "metadata": {},
   "outputs": [
    {
     "name": "stdout",
     "output_type": "stream",
     "text": [
      "+3.140000; -3.140000\n",
      " 3.140000; -3.140000\n",
      "3.140000; -3.140000\n",
      "1,234,567,890\n",
      "int: 42;  hex: 2a;  oct: 52;  bin: 101010\n",
      "int: 42;  hex: 0x2a;  oct: 0o52;  bin: 0b101010\n",
      "Correct answers: 86.36%\n",
      "2010-07-04 12:15:58\n"
     ]
    }
   ],
   "source": [
    "print('{:+f}; {:+f}'.format(3.14, -3.14))\n",
    "print('{: f}; {: f}'.format(3.14, -3.14))\n",
    "print('{:-f}; {:-f}'.format(3.14, -3.14))\n",
    "print('{:,}'.format(1234567890))\n",
    "print(\"int: {0:d};  hex: {0:x};  oct: {0:o};  bin: {0:b}\".format(42))\n",
    "print(\"int: {0:d};  hex: {0:#x};  oct: {0:#o};  bin: {0:#b}\".format(42))\n",
    "points = 19\n",
    "total = 22\n",
    "print('Correct answers: {:.2%}'.format(points/total))\n",
    "\n",
    "import datetime\n",
    "d = datetime.datetime(2010, 7, 4, 12, 15, 58)\n",
    "print('{:%Y-%m-%d %H:%M:%S}'.format(d))"
   ]
  },
  {
   "cell_type": "code",
   "execution_count": 17,
   "metadata": {},
   "outputs": [
    {
     "name": "stdout",
     "output_type": "stream",
     "text": [
      "left<<<<<<<<<<<<\n",
      "^^^^^center^^^^^\n",
      ">>>>>>>>>>>right\n",
      "C0A80001\n",
      "    5     5     5   101 \n",
      "    6     6     6   110 \n",
      "    7     7     7   111 \n",
      "    8     8    10  1000 \n",
      "    9     9    11  1001 \n",
      "   10     A    12  1010 \n",
      "   11     B    13  1011 \n"
     ]
    }
   ],
   "source": [
    "for align, text in zip('<^>', ['left', 'center', 'right']):\n",
    "    print('{0:{fill}{align}16}'.format(text, fill=align, align=align))\n",
    "\n",
    "octets = [192, 168, 0, 1]\n",
    "print('{:02X}{:02X}{:02X}{:02X}'.format(*octets))\n",
    "\n",
    "width = 5\n",
    "for num in range(5,12):\n",
    "    for base in 'dXob':\n",
    "        print('{0:{width}{base}}'.format(num, base=base, width=width), end=' ')\n",
    "    print()"
   ]
  }
 ],
 "metadata": {
  "kernelspec": {
   "display_name": "Python 3",
   "language": "python",
   "name": "python3"
  },
  "language_info": {
   "codemirror_mode": {
    "name": "ipython",
    "version": 3
   },
   "file_extension": ".py",
   "mimetype": "text/x-python",
   "name": "python",
   "nbconvert_exporter": "python",
   "pygments_lexer": "ipython3",
   "version": "3.6.4"
  }
 },
 "nbformat": 4,
 "nbformat_minor": 2
}
